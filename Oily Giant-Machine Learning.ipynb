{
 "cells": [
  {
   "cell_type": "markdown",
   "metadata": {},
   "source": [
    "# Machine Learning in Business Project\n",
    "\n",
    "In working for the OilyGiant mining company. The company is trying to figure out where the best place for a new well should be developed. They have some parameters and data that will help us in our project that will hopefully help point to what location they should develop next. You have data on oil samples from three regions. Parameters of each oil well in the region are already known. Build a model that will help to pick the region with the highest profit margin. Analyze potential profit and risks using the Bootstrapping technique.\n",
    "\n",
    "Steps to choose the location:\n",
    "\n",
    "1. Collect the oil well parameters in the selected region: oil quality and volume of reserves;\n",
    "2. Build a model for predicting the volume of reserves in the new wells;\n",
    "3. Pick the oil wells with the highest estimated values;\n",
    "4. Pick the region with the highest total profit for the selected oil wells.\n",
    "5. You have data on oil samples from three regions. Parameters of each oil well in the region are already known. Build a    model that will help to pick the region with the highest profit margin. Analyze potential profit and risks using the Bootstrapping technique."
   ]
  },
  {
   "cell_type": "markdown",
   "metadata": {},
   "source": [
    "# Initialize \n",
    "\n",
    "Setting up the Python library imports that will help with the project. This involves toolkits for data analysis, machine learning and statistics."
   ]
  },
  {
   "cell_type": "code",
   "execution_count": 1,
   "metadata": {},
   "outputs": [],
   "source": [
    "import pandas as pd\n",
    "import numpy as np\n",
    "import scipy.stats as st\n",
    "from sklearn.linear_model import LinearRegression\n",
    "from sklearn.model_selection import train_test_split\n",
    "from sklearn.metrics import mean_squared_error\n",
    "import seaborn as sns\n",
    "import matplotlib.pyplot as plt"
   ]
  },
  {
   "cell_type": "markdown",
   "metadata": {},
   "source": [
    "# Download Data For Project\n",
    "\n",
    "Loading the CSV files "
   ]
  },
  {
   "cell_type": "code",
   "execution_count": 2,
   "metadata": {},
   "outputs": [],
   "source": [
    "df0 = pd.read_csv('/datasets/geo_data_0.csv')\n",
    "df1 = pd.read_csv('/datasets/geo_data_1.csv')\n",
    "df2 = pd.read_csv('/datasets/geo_data_2.csv')\n"
   ]
  },
  {
   "cell_type": "markdown",
   "metadata": {},
   "source": [
    "# Prepare Data\n",
    "\n",
    "Will now do some exploratory data analysis"
   ]
  },
  {
   "cell_type": "code",
   "execution_count": 3,
   "metadata": {},
   "outputs": [
    {
     "name": "stdout",
     "output_type": "stream",
     "text": [
      "df0 NUMBER OF DUPLICATED ROWS: 0\n",
      "df1 NUMBER OF DUPLICATED ROWS: 0\n",
      "df2 NUMBER OF DUPLICATED ROWS: 0\n"
     ]
    }
   ],
   "source": [
    "# Check for any duplicate rows\n",
    "print(\"df0 NUMBER OF DUPLICATED ROWS:\", df0.duplicated().sum())\n",
    "print(\"df1 NUMBER OF DUPLICATED ROWS:\", df1.duplicated().sum())\n",
    "print(\"df2 NUMBER OF DUPLICATED ROWS:\", df2.duplicated().sum())"
   ]
  },
  {
   "cell_type": "code",
   "execution_count": 4,
   "metadata": {},
   "outputs": [
    {
     "name": "stdout",
     "output_type": "stream",
     "text": [
      "df0 PERCENTAGE OF NULL VALUES:\n",
      "id         0\n",
      "f0         0\n",
      "f1         0\n",
      "f2         0\n",
      "product    0\n",
      "dtype: int64\n",
      "df0 PERCENTAGE OF NULL VALUES:\n",
      "id         0\n",
      "f0         0\n",
      "f1         0\n",
      "f2         0\n",
      "product    0\n",
      "dtype: int64\n",
      "df0 PERCENTAGE OF NULL VALUES:\n",
      "id         0\n",
      "f0         0\n",
      "f1         0\n",
      "f2         0\n",
      "product    0\n",
      "dtype: int64\n"
     ]
    }
   ],
   "source": [
    "# Check for any Null Values\n",
    "print(\"df0 PERCENTAGE OF NULL VALUES:\")\n",
    "print(df0.isnull().sum())\n",
    "\n",
    "print(\"df0 PERCENTAGE OF NULL VALUES:\")\n",
    "print(df1.isnull().sum())\n",
    "\n",
    "print(\"df0 PERCENTAGE OF NULL VALUES:\")\n",
    "print(df2.isnull().sum())"
   ]
  },
  {
   "cell_type": "code",
   "execution_count": 5,
   "metadata": {},
   "outputs": [
    {
     "name": "stdout",
     "output_type": "stream",
     "text": [
      "df0:\n",
      "<class 'pandas.core.frame.DataFrame'>\n",
      "RangeIndex: 100000 entries, 0 to 99999\n",
      "Data columns (total 5 columns):\n",
      " #   Column   Non-Null Count   Dtype  \n",
      "---  ------   --------------   -----  \n",
      " 0   id       100000 non-null  object \n",
      " 1   f0       100000 non-null  float64\n",
      " 2   f1       100000 non-null  float64\n",
      " 3   f2       100000 non-null  float64\n",
      " 4   product  100000 non-null  float64\n",
      "dtypes: float64(4), object(1)\n",
      "memory usage: 3.8+ MB\n",
      "      id        f0        f1        f2     product\n",
      "0  txEyH  0.705745 -0.497823  1.221170  105.280062\n",
      "1  2acmU  1.334711 -0.340164  4.365080   73.037750\n",
      "2  409Wp  1.022732  0.151990  1.419926   85.265647\n",
      "3  iJLyR -0.032172  0.139033  2.978566  168.620776\n",
      "4  Xdl7t  1.988431  0.155413  4.751769  154.036647\n",
      "df1:\n",
      "<class 'pandas.core.frame.DataFrame'>\n",
      "RangeIndex: 100000 entries, 0 to 99999\n",
      "Data columns (total 5 columns):\n",
      " #   Column   Non-Null Count   Dtype  \n",
      "---  ------   --------------   -----  \n",
      " 0   id       100000 non-null  object \n",
      " 1   f0       100000 non-null  float64\n",
      " 2   f1       100000 non-null  float64\n",
      " 3   f2       100000 non-null  float64\n",
      " 4   product  100000 non-null  float64\n",
      "dtypes: float64(4), object(1)\n",
      "memory usage: 3.8+ MB\n",
      "      id         f0         f1        f2     product\n",
      "0  kBEdx -15.001348  -8.276000 -0.005876    3.179103\n",
      "1  62mP7  14.272088  -3.475083  0.999183   26.953261\n",
      "2  vyE1P   6.263187  -5.948386  5.001160  134.766305\n",
      "3  KcrkZ -13.081196 -11.506057  4.999415  137.945408\n",
      "4  AHL4O  12.702195  -8.147433  5.004363  134.766305\n",
      "df2:\n",
      "<class 'pandas.core.frame.DataFrame'>\n",
      "RangeIndex: 100000 entries, 0 to 99999\n",
      "Data columns (total 5 columns):\n",
      " #   Column   Non-Null Count   Dtype  \n",
      "---  ------   --------------   -----  \n",
      " 0   id       100000 non-null  object \n",
      " 1   f0       100000 non-null  float64\n",
      " 2   f1       100000 non-null  float64\n",
      " 3   f2       100000 non-null  float64\n",
      " 4   product  100000 non-null  float64\n",
      "dtypes: float64(4), object(1)\n",
      "memory usage: 3.8+ MB\n",
      "      id        f0        f1        f2     product\n",
      "0  fwXo0 -1.146987  0.963328 -0.828965   27.758673\n",
      "1  WJtFt  0.262778  0.269839 -2.530187   56.069697\n",
      "2  ovLUW  0.194587  0.289035 -5.586433   62.871910\n",
      "3  q6cA6  2.236060 -0.553760  0.930038  114.572842\n",
      "4  WPMUX -0.515993  1.716266  5.899011  149.600746\n"
     ]
    }
   ],
   "source": [
    "# Analyze data info\n",
    "print(\"df0:\")\n",
    "df0.info()\n",
    "print(df0.head())\n",
    "\n",
    "print(\"df1:\")\n",
    "df1.info()\n",
    "print(df1.head())\n",
    "\n",
    "print(\"df2:\")\n",
    "df2.info()\n",
    "print(df2.head())"
   ]
  },
  {
   "cell_type": "code",
   "execution_count": 6,
   "metadata": {},
   "outputs": [
    {
     "data": {
      "image/png": "[encoded data removed]",
      "text/plain": [
       "<Figure size 1500x500 with 4 Axes>"
      ]
     },
     "metadata": {},
     "output_type": "display_data"
    }
   ],
   "source": [
    "df0.hist(edgecolor='black', figsize=(15,5));\n",
    "\n"
   ]
  },
  {
   "cell_type": "code",
   "execution_count": 7,
   "metadata": {},
   "outputs": [
    {
     "data": {
      "image/png": "[encoded data removed]",
      "text/plain": [
       "<Figure size 1500x500 with 4 Axes>"
      ]
     },
     "metadata": {},
     "output_type": "display_data"
    }
   ],
   "source": [
    "df1.hist(edgecolor='black', figsize=(15,5));\n"
   ]
  },
  {
   "cell_type": "code",
   "execution_count": 8,
   "metadata": {},
   "outputs": [
    {
     "data": {
      "image/png": "[encoded data removed]",
      "text/plain": [
       "<Figure size 1500x500 with 4 Axes>"
      ]
     },
     "metadata": {},
     "output_type": "display_data"
    }
   ],
   "source": [
    "df2.hist(edgecolor='black', figsize=(15,5));\n"
   ]
  },
  {
   "cell_type": "markdown",
   "metadata": {},
   "source": [
    "There are a 100,000 entries. The datasets includes four numerical columns: 'f0', 'f1', and 'f2', which are features representing various geological parameters, and 'product', which indicates the volume of oil reserves in thousand barrels. There were no missing values in the datasets and no duplicates as well. This would indicate that the data is complete. Utilized graphs to get a better visualization of the data and by looking at it df0 and df2 datasets seem more consistent and less erratic that df1, especially looking at the quality of f2 data.  "
   ]
  },
  {
   "cell_type": "markdown",
   "metadata": {},
   "source": [
    "# Split Data\n",
    "\n",
    "The 'split_data' function extracts geological features ('f0', 'f1', 'f2') and the target variable ('product') from each region's dataset ('geo_data_0', 'geo_data_1', 'geo_data_2'). It divides the data into training and validation sets using a 75:25 split ratio, ensuring the model is trained on a majority of the data while validating its performance on unseen samples. The 'print_sizes' function provides concise feedback on the sizes of these subsets, verifying the integrity of the data split process."
   ]
  },
  {
   "cell_type": "code",
   "execution_count": 9,
   "metadata": {},
   "outputs": [
    {
     "name": "stdout",
     "output_type": "stream",
     "text": [
      "REGION 0:\n",
      "---------\n",
      "Training Features Size: (75000, 3)\n",
      "Validation Features Size: (25000, 3)\n",
      "Training Target Size: (75000,)\n",
      "Validation Target Size: (25000,)\n",
      "\n",
      "REGION 1:\n",
      "---------\n",
      "Training Features Size: (75000, 3)\n",
      "Validation Features Size: (25000, 3)\n",
      "Training Target Size: (75000,)\n",
      "Validation Target Size: (25000,)\n",
      "\n",
      "REGION 2:\n",
      "---------\n",
      "Training Features Size: (75000, 3)\n",
      "Validation Features Size: (25000, 3)\n",
      "Training Target Size: (75000,)\n",
      "Validation Target Size: (25000,)\n"
     ]
    }
   ],
   "source": [
    "# Split Data function\n",
    "def split_data(data):\n",
    "    # Extract features by dropping 'id' and 'product' columns\n",
    "    features = data.drop(['id', 'product'], axis=1)\n",
    "    \n",
    "    # Extract target labels from the 'product' column\n",
    "    target = data['product']\n",
    "    \n",
    "    # Split data into training and validation sets (75% training, 25% validation)\n",
    "    features_train, features_valid, target_train, target_valid = train_test_split(\n",
    "        features, \n",
    "        target, \n",
    "        test_size=0.25,  # 25% of the data will be validation set\n",
    "        random_state=12345  # Set random seed for reproducibility\n",
    "    )\n",
    "    \n",
    "    return features_train, features_valid, target_train, target_valid\n",
    "\n",
    "# Print Sizes function\n",
    "def print_sizes(features_train, features_valid, target_train, target_valid):\n",
    "    print(\"---------\")\n",
    "    print(\"Training Features Size:\", features_train.shape)\n",
    "    print(\"Validation Features Size:\", features_valid.shape)\n",
    "    print(\"Training Target Size:\", target_train.shape)\n",
    "    print(\"Validation Target Size:\", target_valid.shape)\n",
    "\n",
    "# Split data for Region 0 and print subsets\n",
    "features_train_0, features_valid_0, target_train_0, target_valid_0 = split_data(df0)\n",
    "print(\"REGION 0:\")\n",
    "print_sizes(features_train_0, features_valid_0, target_train_0, target_valid_0)\n",
    "print()\n",
    "\n",
    "# Split data for Region 1 and print subsets\n",
    "features_train_1, features_valid_1, target_train_1, target_valid_1 = split_data(df1)\n",
    "print(\"REGION 1:\")\n",
    "print_sizes(features_train_1, features_valid_1, target_train_1, target_valid_1)\n",
    "print()\n",
    "\n",
    "# Split data for Region 2 and print subsets\n",
    "features_train_2, features_valid_2, target_train_2, target_valid_2 = split_data(df2)\n",
    "print(\"REGION 2:\")\n",
    "print_sizes(features_train_2, features_valid_2, target_train_2, target_valid_2)"
   ]
  },
  {
   "cell_type": "markdown",
   "metadata": {},
   "source": [
    "# Train and Evaluate the Models\n",
    "\n",
    "The 'train_model' function initializes a linear regression model and fits it to the training data ('features_train' and 'target_train'). This enables the model to learn the relationship between geological features and oil reserve volumes. After training, predictions are generated for the validation set ('features_valid') to evaluate how well the model generalizes to new data.\n",
    "\n",
    "The evaluate_model function then quantifies the model's performance by computing the Root Mean Squared Error (RMSE) between the predicted and actual oil reserve volumes ('target_valid'). It also provides insights into the average actual and predicted volumes, offering a comparative view through a DataFrame ('act_vs_pred')."
   ]
  },
  {
   "cell_type": "code",
   "execution_count": 10,
   "metadata": {},
   "outputs": [],
   "source": [
    "# Train Model function\n",
    "def train_model(features_train, features_valid, target_train):\n",
    "    # Initialize a Linear Regression model\n",
    "    model = LinearRegression()\n",
    "    \n",
    "    # Train the model on the training set\n",
    "    model.fit(features_train, target_train)\n",
    "    \n",
    "    # Get predictions on the validation set\n",
    "    predictions = model.predict(features_valid)\n",
    "    \n",
    "    return predictions"
   ]
  },
  {
   "cell_type": "code",
   "execution_count": 11,
   "metadata": {},
   "outputs": [],
   "source": [
    "# Evaluate Model function\n",
    "def evaluate_model(target_valid, predictions):\n",
    "    # Display results of model\n",
    "    print(\"---------\")\n",
    "    rmse = mean_squared_error(target_valid, predictions) ** 0.5\n",
    "    print(\"RMSE:\", rmse)\n",
    "    print(\"Average ACTUAL Volume:\", target_valid.mean())\n",
    "    print(\"Average PREDICTED Volume:\", predictions.mean())\n",
    "\n",
    "    # Create a DataFrame to compare actual and predicted volumes\n",
    "    act_vs_pred = pd.DataFrame({'ACTUAL': target_valid, 'PREDICTIONS': predictions})\n",
    "\n",
    "    # Display the DataFrame for comparison\n",
    "    display(act_vs_pred)"
   ]
  },
  {
   "cell_type": "code",
   "execution_count": 12,
   "metadata": {},
   "outputs": [
    {
     "name": "stdout",
     "output_type": "stream",
     "text": [
      "REGION 0:\n",
      "---------\n",
      "RMSE: 37.5794217150813\n",
      "Average ACTUAL Volume: 92.07859674082927\n",
      "Average PREDICTED Volume: 92.59256778438035\n"
     ]
    },
    {
     "data": {
      "text/html": [
       "<div>\n",
       "<style scoped>\n",
       "    .dataframe tbody tr th:only-of-type {\n",
       "        vertical-align: middle;\n",
       "    }\n",
       "\n",
       "    .dataframe tbody tr th {\n",
       "        vertical-align: top;\n",
       "    }\n",
       "\n",
       "    .dataframe thead th {\n",
       "        text-align: right;\n",
       "    }\n",
       "</style>\n",
       "<table border=\"1\" class=\"dataframe\">\n",
       "  <thead>\n",
       "    <tr style=\"text-align: right;\">\n",
       "      <th></th>\n",
       "      <th>ACTUAL</th>\n",
       "      <th>PREDICTIONS</th>\n",
       "    </tr>\n",
       "  </thead>\n",
       "  <tbody>\n",
       "    <tr>\n",
       "      <th>71751</th>\n",
       "      <td>10.038645</td>\n",
       "      <td>95.894952</td>\n",
       "    </tr>\n",
       "    <tr>\n",
       "      <th>80493</th>\n",
       "      <td>114.551489</td>\n",
       "      <td>77.572583</td>\n",
       "    </tr>\n",
       "    <tr>\n",
       "      <th>2655</th>\n",
       "      <td>132.603635</td>\n",
       "      <td>77.892640</td>\n",
       "    </tr>\n",
       "    <tr>\n",
       "      <th>53233</th>\n",
       "      <td>169.072125</td>\n",
       "      <td>90.175134</td>\n",
       "    </tr>\n",
       "    <tr>\n",
       "      <th>91141</th>\n",
       "      <td>122.325180</td>\n",
       "      <td>70.510088</td>\n",
       "    </tr>\n",
       "    <tr>\n",
       "      <th>...</th>\n",
       "      <td>...</td>\n",
       "      <td>...</td>\n",
       "    </tr>\n",
       "    <tr>\n",
       "      <th>12581</th>\n",
       "      <td>170.116726</td>\n",
       "      <td>103.037104</td>\n",
       "    </tr>\n",
       "    <tr>\n",
       "      <th>18456</th>\n",
       "      <td>93.632175</td>\n",
       "      <td>85.403255</td>\n",
       "    </tr>\n",
       "    <tr>\n",
       "      <th>73035</th>\n",
       "      <td>127.352259</td>\n",
       "      <td>61.509833</td>\n",
       "    </tr>\n",
       "    <tr>\n",
       "      <th>63834</th>\n",
       "      <td>99.782700</td>\n",
       "      <td>118.180397</td>\n",
       "    </tr>\n",
       "    <tr>\n",
       "      <th>43558</th>\n",
       "      <td>177.821022</td>\n",
       "      <td>118.169392</td>\n",
       "    </tr>\n",
       "  </tbody>\n",
       "</table>\n",
       "<p>25000 rows × 2 columns</p>\n",
       "</div>"
      ],
      "text/plain": [
       "           ACTUAL  PREDICTIONS\n",
       "71751   10.038645    95.894952\n",
       "80493  114.551489    77.572583\n",
       "2655   132.603635    77.892640\n",
       "53233  169.072125    90.175134\n",
       "91141  122.325180    70.510088\n",
       "...           ...          ...\n",
       "12581  170.116726   103.037104\n",
       "18456   93.632175    85.403255\n",
       "73035  127.352259    61.509833\n",
       "63834   99.782700   118.180397\n",
       "43558  177.821022   118.169392\n",
       "\n",
       "[25000 rows x 2 columns]"
      ]
     },
     "metadata": {},
     "output_type": "display_data"
    }
   ],
   "source": [
    "# Train the model for Region 0\n",
    "predictions_0 = train_model(features_train_0, features_valid_0, target_train_0)\n",
    "\n",
    "# Evaluate the model for Region 0\n",
    "print(\"REGION 0:\")\n",
    "evaluate_model(target_valid_0, predictions_0)"
   ]
  },
  {
   "cell_type": "code",
   "execution_count": 13,
   "metadata": {},
   "outputs": [
    {
     "name": "stdout",
     "output_type": "stream",
     "text": [
      "REGION 1:\n",
      "---------\n",
      "RMSE: 0.893099286775617\n",
      "Average ACTUAL Volume: 68.72313602435997\n",
      "Average PREDICTED Volume: 68.728546895446\n"
     ]
    },
    {
     "data": {
      "text/html": [
       "<div>\n",
       "<style scoped>\n",
       "    .dataframe tbody tr th:only-of-type {\n",
       "        vertical-align: middle;\n",
       "    }\n",
       "\n",
       "    .dataframe tbody tr th {\n",
       "        vertical-align: top;\n",
       "    }\n",
       "\n",
       "    .dataframe thead th {\n",
       "        text-align: right;\n",
       "    }\n",
       "</style>\n",
       "<table border=\"1\" class=\"dataframe\">\n",
       "  <thead>\n",
       "    <tr style=\"text-align: right;\">\n",
       "      <th></th>\n",
       "      <th>ACTUAL</th>\n",
       "      <th>PREDICTIONS</th>\n",
       "    </tr>\n",
       "  </thead>\n",
       "  <tbody>\n",
       "    <tr>\n",
       "      <th>71751</th>\n",
       "      <td>80.859783</td>\n",
       "      <td>82.663314</td>\n",
       "    </tr>\n",
       "    <tr>\n",
       "      <th>80493</th>\n",
       "      <td>53.906522</td>\n",
       "      <td>54.431786</td>\n",
       "    </tr>\n",
       "    <tr>\n",
       "      <th>2655</th>\n",
       "      <td>30.132364</td>\n",
       "      <td>29.748760</td>\n",
       "    </tr>\n",
       "    <tr>\n",
       "      <th>53233</th>\n",
       "      <td>53.906522</td>\n",
       "      <td>53.552133</td>\n",
       "    </tr>\n",
       "    <tr>\n",
       "      <th>91141</th>\n",
       "      <td>0.000000</td>\n",
       "      <td>1.243856</td>\n",
       "    </tr>\n",
       "    <tr>\n",
       "      <th>...</th>\n",
       "      <td>...</td>\n",
       "      <td>...</td>\n",
       "    </tr>\n",
       "    <tr>\n",
       "      <th>12581</th>\n",
       "      <td>137.945408</td>\n",
       "      <td>136.869211</td>\n",
       "    </tr>\n",
       "    <tr>\n",
       "      <th>18456</th>\n",
       "      <td>110.992147</td>\n",
       "      <td>110.693465</td>\n",
       "    </tr>\n",
       "    <tr>\n",
       "      <th>73035</th>\n",
       "      <td>137.945408</td>\n",
       "      <td>137.879341</td>\n",
       "    </tr>\n",
       "    <tr>\n",
       "      <th>63834</th>\n",
       "      <td>84.038886</td>\n",
       "      <td>83.761966</td>\n",
       "    </tr>\n",
       "    <tr>\n",
       "      <th>43558</th>\n",
       "      <td>53.906522</td>\n",
       "      <td>53.958466</td>\n",
       "    </tr>\n",
       "  </tbody>\n",
       "</table>\n",
       "<p>25000 rows × 2 columns</p>\n",
       "</div>"
      ],
      "text/plain": [
       "           ACTUAL  PREDICTIONS\n",
       "71751   80.859783    82.663314\n",
       "80493   53.906522    54.431786\n",
       "2655    30.132364    29.748760\n",
       "53233   53.906522    53.552133\n",
       "91141    0.000000     1.243856\n",
       "...           ...          ...\n",
       "12581  137.945408   136.869211\n",
       "18456  110.992147   110.693465\n",
       "73035  137.945408   137.879341\n",
       "63834   84.038886    83.761966\n",
       "43558   53.906522    53.958466\n",
       "\n",
       "[25000 rows x 2 columns]"
      ]
     },
     "metadata": {},
     "output_type": "display_data"
    }
   ],
   "source": [
    "# Train the model for Region 1\n",
    "predictions_1 = train_model(features_train_1, features_valid_1, target_train_1)\n",
    "\n",
    "# Evaluate the model for Region 1\n",
    "print(\"REGION 1:\")\n",
    "evaluate_model(target_valid_1, predictions_1)"
   ]
  },
  {
   "cell_type": "code",
   "execution_count": 14,
   "metadata": {},
   "outputs": [
    {
     "name": "stdout",
     "output_type": "stream",
     "text": [
      "REGION 2:\n",
      "---------\n",
      "RMSE: 40.02970873393434\n",
      "Average ACTUAL Volume: 94.88423280885438\n",
      "Average PREDICTED Volume: 94.96504596800489\n"
     ]
    },
    {
     "data": {
      "text/html": [
       "<div>\n",
       "<style scoped>\n",
       "    .dataframe tbody tr th:only-of-type {\n",
       "        vertical-align: middle;\n",
       "    }\n",
       "\n",
       "    .dataframe tbody tr th {\n",
       "        vertical-align: top;\n",
       "    }\n",
       "\n",
       "    .dataframe thead th {\n",
       "        text-align: right;\n",
       "    }\n",
       "</style>\n",
       "<table border=\"1\" class=\"dataframe\">\n",
       "  <thead>\n",
       "    <tr style=\"text-align: right;\">\n",
       "      <th></th>\n",
       "      <th>ACTUAL</th>\n",
       "      <th>PREDICTIONS</th>\n",
       "    </tr>\n",
       "  </thead>\n",
       "  <tbody>\n",
       "    <tr>\n",
       "      <th>71751</th>\n",
       "      <td>61.212375</td>\n",
       "      <td>93.599633</td>\n",
       "    </tr>\n",
       "    <tr>\n",
       "      <th>80493</th>\n",
       "      <td>41.850118</td>\n",
       "      <td>75.105159</td>\n",
       "    </tr>\n",
       "    <tr>\n",
       "      <th>2655</th>\n",
       "      <td>57.776581</td>\n",
       "      <td>90.066809</td>\n",
       "    </tr>\n",
       "    <tr>\n",
       "      <th>53233</th>\n",
       "      <td>100.053761</td>\n",
       "      <td>105.162375</td>\n",
       "    </tr>\n",
       "    <tr>\n",
       "      <th>91141</th>\n",
       "      <td>109.897122</td>\n",
       "      <td>115.303310</td>\n",
       "    </tr>\n",
       "    <tr>\n",
       "      <th>...</th>\n",
       "      <td>...</td>\n",
       "      <td>...</td>\n",
       "    </tr>\n",
       "    <tr>\n",
       "      <th>12581</th>\n",
       "      <td>28.492402</td>\n",
       "      <td>78.765887</td>\n",
       "    </tr>\n",
       "    <tr>\n",
       "      <th>18456</th>\n",
       "      <td>21.431303</td>\n",
       "      <td>95.603394</td>\n",
       "    </tr>\n",
       "    <tr>\n",
       "      <th>73035</th>\n",
       "      <td>125.487229</td>\n",
       "      <td>99.407281</td>\n",
       "    </tr>\n",
       "    <tr>\n",
       "      <th>63834</th>\n",
       "      <td>99.422903</td>\n",
       "      <td>77.779912</td>\n",
       "    </tr>\n",
       "    <tr>\n",
       "      <th>43558</th>\n",
       "      <td>127.445075</td>\n",
       "      <td>129.032417</td>\n",
       "    </tr>\n",
       "  </tbody>\n",
       "</table>\n",
       "<p>25000 rows × 2 columns</p>\n",
       "</div>"
      ],
      "text/plain": [
       "           ACTUAL  PREDICTIONS\n",
       "71751   61.212375    93.599633\n",
       "80493   41.850118    75.105159\n",
       "2655    57.776581    90.066809\n",
       "53233  100.053761   105.162375\n",
       "91141  109.897122   115.303310\n",
       "...           ...          ...\n",
       "12581   28.492402    78.765887\n",
       "18456   21.431303    95.603394\n",
       "73035  125.487229    99.407281\n",
       "63834   99.422903    77.779912\n",
       "43558  127.445075   129.032417\n",
       "\n",
       "[25000 rows x 2 columns]"
      ]
     },
     "metadata": {},
     "output_type": "display_data"
    }
   ],
   "source": [
    "# Train the model for Region 2\n",
    "predictions_2 = train_model(features_train_2, features_valid_2, target_train_2)\n",
    "\n",
    "# Evaluate the model for Region 2\n",
    "print(\"REGION 2:\")\n",
    "evaluate_model(target_valid_2, predictions_2)"
   ]
  },
  {
   "cell_type": "markdown",
   "metadata": {},
   "source": [
    "The evaluation results show varying levels of model performance across the three regions considered for oil well development. In Region 0, the model exhibits a RMSE of approximately 37.58, indicating a moderate level of error in predicting oil reserve volumes. The average actual and predicted volumes are close, with actual slightly lower at 92.08 compared to predicted at 92.59, suggesting reasonable accuracy. Region 1 demonstrates the best performance with a significantly lower RMSE of about 0.89, indicating highly accurate predictions. Both actual and predicted volumes align closely around 68.72 and 68.73 respectively, indicating precise estimation. Conversely, Region 2 displays a higher RMSE of about 40.03, indicating less accurate predictions compared to the other regions. The average actual and predicted volumes are similar at around 94.88 and 94.97 respectively, showing moderate accuracy but with notable variability in predictions. These results suggest that Region 1 shows the most promising potential for oil well development based on the model's performance metrics."
   ]
  },
  {
   "cell_type": "markdown",
   "metadata": {},
   "source": [
    "# Calculate the volume of reserves sufficient for developing a new well without losses.\n",
    "\n",
    "Here we are going to calculate the minimum volume of oil reserves required for each of the regions to break even on the drilling costs. By using the fixed budget and the average revenue per unit of oil produced. In dividing the total budget (\"BUDGET\") by the number of wells (\"TARGET_WELLS\"), will get the cost per well (\"WELL_COST\").The \"break_even_volume\" is the minimum volume of reserves each well needs to yield in order to cover the costs at the average revenue per unit (\"UNIT_REVENUE\"). The function, \"calculate_break_even, will compute and print the average volume of reserves for each of the regions. "
   ]
  },
  {
   "cell_type": "code",
   "execution_count": 15,
   "metadata": {},
   "outputs": [
    {
     "name": "stdout",
     "output_type": "stream",
     "text": [
      "Minimum Volume of Reserves to Break-Even:: 111.11111111111111\n",
      "\n",
      "REGION 0:\n",
      "---------\n",
      "Average Volume of Reserves: 92.50000000000001\n",
      "Difference from Breaking Even: 18.6111111111111\n",
      "\n",
      "REGION 1:\n",
      "---------\n",
      "Average Volume of Reserves: 68.82500000000002\n",
      "Difference from Breaking Even: 42.2861111111111\n",
      "\n",
      "REGION 2:\n",
      "---------\n",
      "Average Volume of Reserves: 95.00000000000004\n",
      "Difference from Breaking Even: 16.11111111111107\n"
     ]
    }
   ],
   "source": [
    "# Constants\n",
    "BUDGET = 100000000 # Total budget available for development\n",
    "UNIT_REVENUE = 4500 # Average revenue per unit of oil produced\n",
    "TARGET_WELLS = 200 # Number of wells to be drilled per region\n",
    "TOTAL_WELLS = 500 # Total number of available wells\n",
    "WELL_COST = BUDGET / TARGET_WELLS # Cost of one well\n",
    "\n",
    "# Minimum volume of reserves to cover the well cost\n",
    "break_even_volume = WELL_COST / UNIT_REVENUE\n",
    "print(\"Minimum Volume of Reserves to Break-Even::\", break_even_volume)\n",
    "print()\n",
    "\n",
    "# Calculate Break-Even function\n",
    "def calculate_break_even(data, break_even_volume):\n",
    "    print(\"---------\")\n",
    "    avg_volume = data['product'].mean()\n",
    "    print(\"Average Volume of Reserves:\", avg_volume)\n",
    "    print(\"Difference from Breaking Even:\", break_even_volume - avg_volume)\n",
    "\n",
    "print(\"REGION 0:\")\n",
    "calculate_break_even(df0, break_even_volume)\n",
    "print()\n",
    "\n",
    "print(\"REGION 1:\")\n",
    "calculate_break_even(df1, break_even_volume)\n",
    "print()\n",
    "\n",
    "print(\"REGION 2:\")\n",
    "calculate_break_even(df2, break_even_volume)"
   ]
  },
  {
   "cell_type": "markdown",
   "metadata": {},
   "source": [
    "Above we see that Region 0 is short of the minimum volume needed to break even on drilling costs by about 18.61 units of oil reserves per well. In Region 1 falls even shorter than Region 0  at the average reserve volume at 442.29 units well below the break-even point. Region 2 got the closest to the break-even point at 16.11 units. This would help lead us to think that Region 2 has the better chance to generate profit from the oil development with the given budget and revenue conditions."
   ]
  },
  {
   "cell_type": "markdown",
   "metadata": {},
   "source": [
    "# Calculating Profit\n",
    "\n",
    "We will use the function \"calculate_profit\" to  calculate potential profits from drilling operations in each of the regions based pon model predictions of oil reserves. The predictions will be sorted in descending order in order to highlight the wells with higher estimated reserves. We will then take the top 200 wells, based on the those sorted predictions and then calculate the total reserves in those wells and calculate the profits by subtracting the total drilling costs from the revenue generated.  It outputs the computed profits for Regions 0, 1, and 2 based on the model predictions and validation data. The 'analyze_profit_and_units' function complements this by providing a detailed analysis of the computed profits and the total units of reserves for the top 200 locations, offering a comprehensive view of the financial and operational outcomes for each region, and facilitating easier comparison of potential returns and strategic advantages of drilling in each area.  "
   ]
  },
  {
   "cell_type": "code",
   "execution_count": 16,
   "metadata": {},
   "outputs": [],
   "source": [
    "# Calculate Profit function\n",
    "def calculate_profit(target_valid, predictions):\n",
    "    # Convert the target values to a pandas Series and reset the index for consistent indexing\n",
    "    target_series = pd.Series(target_valid).reset_index(drop=True)\n",
    "\n",
    "    # Convert the predictions to a pandas Series and sort them in descending order\n",
    "    predictions_sorted = pd.Series(predictions).sort_values(ascending=False)\n",
    "\n",
    "    # Select the top 200 wells based on the sorted predictions\n",
    "    top_200_wells = target_series[predictions_sorted.index][:TARGET_WELLS]\n",
    "\n",
    "    # Calculate the total units in the selected top wells\n",
    "    total_units = top_200_wells.sum()\n",
    "\n",
    "    # Calculate the profit based on total units and revenue per unit\n",
    "    profit = total_units * UNIT_REVENUE - BUDGET\n",
    "\n",
    "    return profit\n"
   ]
  },
  {
   "cell_type": "code",
   "execution_count": 17,
   "metadata": {},
   "outputs": [
    {
     "name": "stdout",
     "output_type": "stream",
     "text": [
      "REGION 0 (Top 200 Locations):\n",
      "-----------------------------\n",
      "Total Profit: 33208260.43139851\n",
      "Total Units: 29601.83565142189\n",
      "Profit per Unit: 1121.8311196117795\n",
      "\n",
      "REGION 1 (Top 200 Locations):\n",
      "-----------------------------\n",
      "Total Profit: 24150866.966815114\n",
      "Total Units: 27589.081548181137\n",
      "Profit per Unit: 875.3777078312092\n",
      "\n",
      "REGION 2 (Top 200 Locations):\n",
      "-----------------------------\n",
      "Total Profit: 27103499.635998324\n",
      "Total Units: 28245.22214133296\n",
      "Profit per Unit: 959.5782076125404\n"
     ]
    }
   ],
   "source": [
    "# Profits and Units function\n",
    "def profits_and_units(profit):\n",
    "    print(\"-----------------------------\")\n",
    "    print(\"Total Profit:\", profit)\n",
    "    total_units = (profit + BUDGET) / UNIT_REVENUE\n",
    "    print(\"Total Units:\", total_units)\n",
    "    profit_per_unit = profit/total_units\n",
    "    print(\"Profit per Unit:\", profit_per_unit)\n",
    "\n",
    "# Print profits and units of Region 0's top 200 loctions\n",
    "profit_0 = calculate_profit(target_valid_0, predictions_0)\n",
    "print(\"REGION 0 (Top 200 Locations):\")\n",
    "profits_and_units(profit_0)\n",
    "print()\n",
    "\n",
    "# Print profits and units of Region 1's top 200 loctions\n",
    "profit_1 = calculate_profit(target_valid_1, predictions_1)\n",
    "print(\"REGION 1 (Top 200 Locations):\")\n",
    "profits_and_units(profit_1)\n",
    "print()\n",
    "\n",
    "# Print profits and units of Region 2's top 200 loctions\n",
    "profit_2 = calculate_profit(target_valid_2, predictions_2)\n",
    "print(\"REGION 2 (Top 200 Locations):\")\n",
    "profits_and_units(profit_2)"
   ]
  },
  {
   "cell_type": "markdown",
   "metadata": {},
   "source": [
    "The calculated profits that we see indicate the potential results of drilling operationsin each of the regions based on the model's predictions of oil reserves. In the Region 0, the projected the highest outcome at 33.2 million USD, followed by Region 2 at 27.1 million USD and pulling last in Region 1 at 24.2 million USD. We also see that Region 0 had the highest amount of total units of reserves at 29,601.84 units, the Region 2 behind that at 28.245.22 units and lastly in Region 1 had 27,589.08 units. We lastly see that in Region 0, the profit per unit is at the top at about 1121.83 USD, with Region 2 second, at about 959.57 USD, and then lastly in Region 1, we land at about 875.37 USD. What we take away from this is that these numbers help reflect how potentially profitable each of these regions are and where more of the focus and resources one may want to devote to. The numbers would suggest Region 0 is the best region to invest in if there is to be one to focus on and to be the most profitable."
   ]
  },
  {
   "cell_type": "markdown",
   "metadata": {},
   "source": [
    "# Profit and Risk\n",
    "\n",
    "We will now use the \"bootstrap_profit\" function to do a thorough bootstrap analysis that will simulate the profit distribution from the oil wells. For each bootstrap sample, the function calculates the profit. This process is repeated 1000 times, resulting in a distribution of potential profits. The function will then calculate the 95% confidence interval for the profit distribution using t-distribution. It will then calculate the risk of loss by determining the proportion of profits that are negative. The results, including the average profit, the 95% confidence interval, and the risk of loss, are printed for each region."
   ]
  },
  {
   "cell_type": "code",
   "execution_count": 18,
   "metadata": {},
   "outputs": [
    {
     "name": "stdout",
     "output_type": "stream",
     "text": [
      "REGION 0:\n",
      "---------\n",
      "Average Profit: 3961649.8480237117\n",
      "95% Confidence Interval: (3796203.1514797257, 4127096.5445676977)\n",
      "Risk of Loss: 6.9%\n",
      "\n",
      "Profit Distribution:\n"
     ]
    },
    {
     "data": {
      "text/plain": [
       "0      6.054641e+06\n",
       "1      5.363934e+06\n",
       "2      2.937858e+06\n",
       "3      1.789934e+06\n",
       "4      2.719929e+06\n",
       "           ...     \n",
       "995    5.253551e+06\n",
       "996    7.790094e+06\n",
       "997    6.494122e+06\n",
       "998    3.149995e+06\n",
       "999    2.197184e+06\n",
       "Length: 1000, dtype: float64"
      ]
     },
     "metadata": {},
     "output_type": "display_data"
    },
    {
     "name": "stdout",
     "output_type": "stream",
     "text": [
      "\n",
      "REGION 1:\n",
      "---------\n",
      "Average Profit: 4560451.057866608\n",
      "95% Confidence Interval: (4431472.486639005, 4689429.62909421)\n",
      "Risk of Loss: 1.5%\n",
      "\n",
      "Profit Distribution:\n"
     ]
    },
    {
     "data": {
      "text/plain": [
       "0      2.280162e+06\n",
       "1      3.343157e+06\n",
       "2      2.537047e+06\n",
       "3      6.139661e+06\n",
       "4      3.571430e+06\n",
       "           ...     \n",
       "995    6.831945e+06\n",
       "996    6.468698e+06\n",
       "997    2.386523e+06\n",
       "998    4.142425e+06\n",
       "999    1.245778e+06\n",
       "Length: 1000, dtype: float64"
      ]
     },
     "metadata": {},
     "output_type": "display_data"
    },
    {
     "name": "stdout",
     "output_type": "stream",
     "text": [
      "\n",
      "REGION 2:\n",
      "---------\n",
      "Average Profit: 4044038.665683568\n",
      "95% Confidence Interval: (3874457.974712804, 4213619.356654332)\n",
      "Risk of Loss: 7.6%\n",
      "\n",
      "Profit Distribution:\n"
     ]
    },
    {
     "data": {
      "text/plain": [
       "0     -7.189923e+05\n",
       "1      6.459964e+06\n",
       "2      6.261756e+06\n",
       "3      4.123517e+06\n",
       "4     -5.596049e+05\n",
       "           ...     \n",
       "995    5.668660e+06\n",
       "996   -5.850207e+05\n",
       "997    5.902561e+06\n",
       "998    4.977628e+06\n",
       "999    2.009241e+06\n",
       "Length: 1000, dtype: float64"
      ]
     },
     "metadata": {},
     "output_type": "display_data"
    }
   ],
   "source": [
    "# Bootstrap Profit function\n",
    "def bootstrap_profit(target, predictions):\n",
    "    # Convert target to pandas Series and reset index for consistent indexing\n",
    "    target = pd.Series(target).reset_index(drop=True)\n",
    "\n",
    "    # Initialize a random state for reproducibility\n",
    "    state = np.random.RandomState(12345)\n",
    "\n",
    "    # Initialize a list to store profit values from bootstrap samples\n",
    "    profits = []\n",
    "\n",
    "    # Perform 1000 bootstrap iterations\n",
    "    for i in range(1000):\n",
    "        # Randomly sample 500 wells with replacement from the target data\n",
    "        target_subsample = target.sample(n=TOTAL_WELLS, replace=True, random_state=state)\n",
    "\n",
    "        # Select the corresponding predictions for the sampled wells\n",
    "        predictions_subsample = predictions[target_subsample.index]\n",
    "\n",
    "        # Calculate profit for the bootstrap sample and append to the series\n",
    "        profits.append(calculate_profit(target_subsample, predictions_subsample))\n",
    "        \n",
    "        # Convert the profit list to a pandas Series\n",
    "        profit_distribution = pd.Series(profits)\n",
    "\n",
    "    # Calculate the 95% confidence interval for the profit distribution using t-distribution\n",
    "    confidence_interval = st.t.interval(0.95, len(profit_distribution) - 1, profit_distribution.mean(), profit_distribution.sem())\n",
    "\n",
    "    # Calculate the risk of loss, defined as the proportion of negative profits\n",
    "    risk_of_loss = (profit_distribution < 0).mean()\n",
    "\n",
    "    # Print the results\n",
    "    print(\"---------\")\n",
    "    print(\"Average Profit:\", profit_distribution.mean())\n",
    "    print(\"95% Confidence Interval:\", confidence_interval)\n",
    "    print(f\"Risk of Loss: {100 * risk_of_loss:.1f}%\")\n",
    "    print()\n",
    "    print(\"Profit Distribution:\")\n",
    "    display(profit_distribution)\n",
    "\n",
    "# Analyze Region 0\n",
    "print(\"REGION 0:\")\n",
    "bootstrap_profit(target_valid_0, predictions_0)\n",
    "print()\n",
    "\n",
    "# Analyze Region 1\n",
    "print(\"REGION 1:\")\n",
    "bootstrap_profit(target_valid_1, predictions_1)\n",
    "print()\n",
    "\n",
    "# Analyze Region 2\n",
    "print(\"REGION 2:\")\n",
    "bootstrap_profit(target_valid_2, predictions_2)"
   ]
  },
  {
   "cell_type": "markdown",
   "metadata": {},
   "source": [
    "# Conclusion\n",
    "\n",
    "In analyzing the profitability across three regions from the oil drilling simulations reveals financial outcomes and associated risks in each of the regions. Region 0 emerges with the lowest average profit at approximately 3,961,649 USD and carries a moderate risk of loss with 6.9% of the profit distribution falling below zero. Region 2, while profitable with an average profit of 4,044,038 USD, exhibits a higher risk of loss at 7.6%, indicating greater variability in returns. Region 1, with an average profit of 4,560,451 USD, demonstrates a narrower 95% confidence interval and a lower risk of loss at 1.5%, making it a more stable investment option compared to Regions 0 and 2. These findings highlight Region 1 as potentially the most reliable and the \"safe\" choice for investors seeking both profitability and has a lower financial risk in investing in. While in Regions 0 and 2, it may require additional thought and weighing the risk that is involved in those regions despite their higher average profits."
   ]
  }
 ],
 "metadata": {
  "ExecuteTimeLog": [
   {
    "duration": 776,
    "start_time": "2025-01-14T03:06:59.954Z"
   },
   {
    "duration": 787,
    "start_time": "2025-01-14T03:07:07.515Z"
   },
   {
    "duration": 725,
    "start_time": "2025-01-14T03:07:37.385Z"
   },
   {
    "duration": 683,
    "start_time": "2025-01-14T03:17:32.244Z"
   },
   {
    "duration": 821,
    "start_time": "2025-01-14T03:17:46.054Z"
   },
   {
    "duration": 583,
    "start_time": "2025-01-14T03:17:46.878Z"
   },
   {
    "duration": 786,
    "start_time": "2025-01-14T03:21:51.834Z"
   },
   {
    "duration": 592,
    "start_time": "2025-01-14T03:21:52.623Z"
   },
   {
    "duration": 6,
    "start_time": "2025-01-14T03:26:06.864Z"
   },
   {
    "duration": 65,
    "start_time": "2025-01-14T03:27:46.391Z"
   },
   {
    "duration": 61,
    "start_time": "2025-01-14T03:35:48.659Z"
   },
   {
    "duration": 738,
    "start_time": "2025-01-14T03:38:54.180Z"
   },
   {
    "duration": 591,
    "start_time": "2025-01-14T03:38:54.920Z"
   },
   {
    "duration": 60,
    "start_time": "2025-01-14T03:41:06.287Z"
   },
   {
    "duration": 730,
    "start_time": "2025-01-14T03:41:15.470Z"
   },
   {
    "duration": 575,
    "start_time": "2025-01-14T03:41:16.202Z"
   },
   {
    "duration": 4,
    "start_time": "2025-01-14T03:43:45.290Z"
   },
   {
    "duration": 4,
    "start_time": "2025-01-14T03:44:05.178Z"
   },
   {
    "duration": 73,
    "start_time": "2025-01-14T03:45:30.462Z"
   },
   {
    "duration": 59,
    "start_time": "2025-01-14T03:46:39.965Z"
   },
   {
    "duration": 317,
    "start_time": "2025-01-14T03:49:54.996Z"
   },
   {
    "duration": 61,
    "start_time": "2025-01-14T03:50:46.107Z"
   },
   {
    "duration": 217,
    "start_time": "2025-01-14T03:51:33.573Z"
   },
   {
    "duration": 78,
    "start_time": "2025-01-14T04:18:36.529Z"
   },
   {
    "duration": 23,
    "start_time": "2025-01-14T04:19:40.773Z"
   },
   {
    "duration": 41,
    "start_time": "2025-01-14T04:20:07.535Z"
   },
   {
    "duration": 735,
    "start_time": "2025-01-17T03:27:08.193Z"
   },
   {
    "duration": 300,
    "start_time": "2025-01-17T03:27:08.930Z"
   },
   {
    "duration": 87,
    "start_time": "2025-01-17T03:27:09.232Z"
   },
   {
    "duration": 42,
    "start_time": "2025-01-17T03:27:09.325Z"
   },
   {
    "duration": 237,
    "start_time": "2025-01-17T03:27:09.370Z"
   },
   {
    "duration": 9,
    "start_time": "2025-01-17T03:29:18.003Z"
   },
   {
    "duration": 29,
    "start_time": "2025-01-17T03:30:42.425Z"
   },
   {
    "duration": 14,
    "start_time": "2025-01-17T03:56:58.380Z"
   },
   {
    "duration": 766,
    "start_time": "2025-01-17T03:57:28.959Z"
   },
   {
    "duration": 230,
    "start_time": "2025-01-17T03:57:29.727Z"
   },
   {
    "duration": 92,
    "start_time": "2025-01-17T03:57:29.958Z"
   },
   {
    "duration": 41,
    "start_time": "2025-01-17T03:57:30.052Z"
   },
   {
    "duration": 45,
    "start_time": "2025-01-17T03:57:30.095Z"
   },
   {
    "duration": 3,
    "start_time": "2025-01-17T03:57:30.141Z"
   },
   {
    "duration": 5,
    "start_time": "2025-01-17T03:57:30.145Z"
   },
   {
    "duration": 17,
    "start_time": "2025-01-17T03:57:30.151Z"
   },
   {
    "duration": 20,
    "start_time": "2025-01-17T03:58:40.631Z"
   },
   {
    "duration": 13,
    "start_time": "2025-01-17T03:58:59.679Z"
   },
   {
    "duration": 778,
    "start_time": "2025-01-18T03:17:15.452Z"
   },
   {
    "duration": 330,
    "start_time": "2025-01-18T03:17:16.232Z"
   },
   {
    "duration": 98,
    "start_time": "2025-01-18T03:17:16.564Z"
   },
   {
    "duration": 58,
    "start_time": "2025-01-18T03:17:16.664Z"
   },
   {
    "duration": 34,
    "start_time": "2025-01-18T03:17:16.724Z"
   },
   {
    "duration": 3,
    "start_time": "2025-01-18T03:17:16.761Z"
   },
   {
    "duration": 4,
    "start_time": "2025-01-18T03:17:16.766Z"
   },
   {
    "duration": 57,
    "start_time": "2025-01-18T03:17:16.771Z"
   },
   {
    "duration": 89,
    "start_time": "2025-01-18T03:17:16.830Z"
   },
   {
    "duration": 16,
    "start_time": "2025-01-18T03:17:16.921Z"
   },
   {
    "duration": 72,
    "start_time": "2025-01-18T03:17:16.939Z"
   },
   {
    "duration": 784,
    "start_time": "2025-01-18T04:38:39.328Z"
   },
   {
    "duration": 224,
    "start_time": "2025-01-18T04:38:40.114Z"
   },
   {
    "duration": 85,
    "start_time": "2025-01-18T04:38:40.339Z"
   },
   {
    "duration": 42,
    "start_time": "2025-01-18T04:38:40.426Z"
   },
   {
    "duration": 54,
    "start_time": "2025-01-18T04:38:40.470Z"
   },
   {
    "duration": 2,
    "start_time": "2025-01-18T04:38:40.526Z"
   },
   {
    "duration": 6,
    "start_time": "2025-01-18T04:38:40.530Z"
   },
   {
    "duration": 16,
    "start_time": "2025-01-18T04:38:40.538Z"
   },
   {
    "duration": 60,
    "start_time": "2025-01-18T04:38:40.556Z"
   },
   {
    "duration": 88,
    "start_time": "2025-01-18T04:38:40.619Z"
   },
   {
    "duration": 7,
    "start_time": "2025-01-18T04:38:40.711Z"
   },
   {
    "duration": 741,
    "start_time": "2025-01-19T19:45:17.700Z"
   },
   {
    "duration": 293,
    "start_time": "2025-01-19T19:45:18.444Z"
   },
   {
    "duration": 84,
    "start_time": "2025-01-19T19:45:18.739Z"
   },
   {
    "duration": 40,
    "start_time": "2025-01-19T19:45:18.825Z"
   },
   {
    "duration": 48,
    "start_time": "2025-01-19T19:45:18.868Z"
   },
   {
    "duration": 3,
    "start_time": "2025-01-19T19:45:18.918Z"
   },
   {
    "duration": 4,
    "start_time": "2025-01-19T19:45:18.923Z"
   },
   {
    "duration": 19,
    "start_time": "2025-01-19T19:45:18.928Z"
   },
   {
    "duration": 79,
    "start_time": "2025-01-19T19:45:18.948Z"
   },
   {
    "duration": 90,
    "start_time": "2025-01-19T19:45:19.029Z"
   },
   {
    "duration": 7,
    "start_time": "2025-01-19T19:45:19.121Z"
   },
   {
    "duration": 3,
    "start_time": "2025-01-19T20:17:50.285Z"
   },
   {
    "duration": 820,
    "start_time": "2025-01-20T02:39:36.377Z"
   },
   {
    "duration": 301,
    "start_time": "2025-01-20T02:39:37.200Z"
   },
   {
    "duration": 86,
    "start_time": "2025-01-20T02:39:37.503Z"
   },
   {
    "duration": 45,
    "start_time": "2025-01-20T02:39:37.591Z"
   },
   {
    "duration": 50,
    "start_time": "2025-01-20T02:39:37.639Z"
   },
   {
    "duration": 5,
    "start_time": "2025-01-20T02:39:37.691Z"
   },
   {
    "duration": 4,
    "start_time": "2025-01-20T02:39:37.697Z"
   },
   {
    "duration": 17,
    "start_time": "2025-01-20T02:39:37.702Z"
   },
   {
    "duration": 17,
    "start_time": "2025-01-20T02:39:37.769Z"
   },
   {
    "duration": 92,
    "start_time": "2025-01-20T02:39:37.788Z"
   },
   {
    "duration": 6,
    "start_time": "2025-01-20T02:39:37.882Z"
   },
   {
    "duration": 3,
    "start_time": "2025-01-20T02:39:37.890Z"
   },
   {
    "duration": 15,
    "start_time": "2025-01-20T02:39:37.971Z"
   },
   {
    "duration": 753,
    "start_time": "2025-01-20T03:51:04.422Z"
   },
   {
    "duration": 230,
    "start_time": "2025-01-20T03:51:05.177Z"
   },
   {
    "duration": 86,
    "start_time": "2025-01-20T03:51:05.409Z"
   },
   {
    "duration": 43,
    "start_time": "2025-01-20T03:51:05.497Z"
   },
   {
    "duration": 50,
    "start_time": "2025-01-20T03:51:05.543Z"
   },
   {
    "duration": 3,
    "start_time": "2025-01-20T03:51:05.595Z"
   },
   {
    "duration": 4,
    "start_time": "2025-01-20T03:51:05.600Z"
   },
   {
    "duration": 16,
    "start_time": "2025-01-20T03:51:05.605Z"
   },
   {
    "duration": 17,
    "start_time": "2025-01-20T03:51:05.669Z"
   },
   {
    "duration": 97,
    "start_time": "2025-01-20T03:51:05.687Z"
   },
   {
    "duration": 6,
    "start_time": "2025-01-20T03:51:05.786Z"
   },
   {
    "duration": 77,
    "start_time": "2025-01-20T03:51:05.794Z"
   },
   {
    "duration": 15,
    "start_time": "2025-01-20T03:51:05.873Z"
   },
   {
    "duration": 2239,
    "start_time": "2025-01-20T03:51:05.891Z"
   },
   {
    "duration": 37,
    "start_time": "2025-01-20T04:07:59.070Z"
   },
   {
    "duration": 212,
    "start_time": "2025-01-20T04:10:29.322Z"
   },
   {
    "duration": 5,
    "start_time": "2025-01-20T04:10:52.577Z"
   },
   {
    "duration": 90,
    "start_time": "2025-01-20T04:10:57.289Z"
   },
   {
    "duration": 90,
    "start_time": "2025-01-20T04:11:05.550Z"
   },
   {
    "duration": 91,
    "start_time": "2025-01-20T04:11:25.253Z"
   },
   {
    "duration": 90,
    "start_time": "2025-01-20T04:11:42.472Z"
   },
   {
    "duration": 91,
    "start_time": "2025-01-20T04:12:00.253Z"
   },
   {
    "duration": 90,
    "start_time": "2025-01-20T04:13:05.241Z"
   },
   {
    "duration": 28,
    "start_time": "2025-01-20T04:13:39.173Z"
   },
   {
    "duration": 4,
    "start_time": "2025-01-20T04:14:36.628Z"
   },
   {
    "duration": 30,
    "start_time": "2025-01-20T04:14:46.138Z"
   },
   {
    "duration": 30,
    "start_time": "2025-01-20T04:15:38.937Z"
   },
   {
    "duration": 5,
    "start_time": "2025-01-20T04:17:36.030Z"
   },
   {
    "duration": 13,
    "start_time": "2025-01-20T04:17:50.270Z"
   },
   {
    "duration": 8,
    "start_time": "2025-01-20T04:18:11.590Z"
   },
   {
    "duration": 7,
    "start_time": "2025-01-20T04:19:00.497Z"
   },
   {
    "duration": 15,
    "start_time": "2025-01-20T04:20:00.124Z"
   },
   {
    "duration": 794,
    "start_time": "2025-01-20T04:24:29.281Z"
   },
   {
    "duration": 222,
    "start_time": "2025-01-20T04:24:30.078Z"
   },
   {
    "duration": 85,
    "start_time": "2025-01-20T04:24:30.302Z"
   },
   {
    "duration": 15,
    "start_time": "2025-01-20T04:24:30.389Z"
   },
   {
    "duration": 30,
    "start_time": "2025-01-20T04:24:30.406Z"
   },
   {
    "duration": 48,
    "start_time": "2025-01-20T04:24:30.437Z"
   },
   {
    "duration": 3,
    "start_time": "2025-01-20T04:24:30.486Z"
   },
   {
    "duration": 4,
    "start_time": "2025-01-20T04:24:30.491Z"
   },
   {
    "duration": 20,
    "start_time": "2025-01-20T04:24:30.496Z"
   },
   {
    "duration": 66,
    "start_time": "2025-01-20T04:24:30.518Z"
   },
   {
    "duration": 89,
    "start_time": "2025-01-20T04:24:30.586Z"
   },
   {
    "duration": 6,
    "start_time": "2025-01-20T04:24:30.678Z"
   },
   {
    "duration": 4,
    "start_time": "2025-01-20T04:24:30.686Z"
   },
   {
    "duration": 84,
    "start_time": "2025-01-20T04:24:30.694Z"
   },
   {
    "duration": 2134,
    "start_time": "2025-01-20T04:24:30.780Z"
   },
   {
    "duration": 158,
    "start_time": "2025-01-20T11:38:07.110Z"
   },
   {
    "duration": 12,
    "start_time": "2025-01-20T11:38:18.171Z"
   },
   {
    "duration": 2750,
    "start_time": "2025-01-20T11:38:24.745Z"
   },
   {
    "duration": 365,
    "start_time": "2025-01-20T11:38:27.499Z"
   },
   {
    "duration": 119,
    "start_time": "2025-01-20T11:38:27.866Z"
   },
   {
    "duration": 17,
    "start_time": "2025-01-20T11:38:27.987Z"
   },
   {
    "duration": 44,
    "start_time": "2025-01-20T11:38:28.008Z"
   },
   {
    "duration": 489,
    "start_time": "2025-01-20T11:38:28.054Z"
   },
   {
    "duration": 33,
    "start_time": "2025-01-20T11:38:28.547Z"
   },
   {
    "duration": 5,
    "start_time": "2025-01-20T11:38:28.582Z"
   },
   {
    "duration": 4,
    "start_time": "2025-01-20T11:38:28.589Z"
   },
   {
    "duration": 54,
    "start_time": "2025-01-20T11:38:28.594Z"
   },
   {
    "duration": 86,
    "start_time": "2025-01-20T11:38:28.651Z"
   },
   {
    "duration": 89,
    "start_time": "2025-01-20T11:38:28.739Z"
   },
   {
    "duration": 9,
    "start_time": "2025-01-20T11:38:28.829Z"
   },
   {
    "duration": 3,
    "start_time": "2025-01-20T11:38:28.843Z"
   },
   {
    "duration": 88,
    "start_time": "2025-01-20T11:38:28.848Z"
   },
   {
    "duration": 2207,
    "start_time": "2025-01-20T11:38:28.938Z"
   },
   {
    "duration": 347,
    "start_time": "2025-01-20T11:39:39.993Z"
   },
   {
    "duration": 240,
    "start_time": "2025-01-20T12:01:28.444Z"
   },
   {
    "duration": 2166,
    "start_time": "2025-01-20T12:01:39.677Z"
   },
   {
    "duration": 15,
    "start_time": "2025-01-20T12:02:17.372Z"
   },
   {
    "duration": 1012,
    "start_time": "2025-01-20T12:07:07.603Z"
   },
   {
    "duration": 234,
    "start_time": "2025-01-20T12:07:08.617Z"
   },
   {
    "duration": 94,
    "start_time": "2025-01-20T12:07:08.853Z"
   },
   {
    "duration": 16,
    "start_time": "2025-01-20T12:07:08.949Z"
   },
   {
    "duration": 32,
    "start_time": "2025-01-20T12:07:08.968Z"
   },
   {
    "duration": 382,
    "start_time": "2025-01-20T12:07:09.002Z"
   },
   {
    "duration": 354,
    "start_time": "2025-01-20T12:07:09.387Z"
   },
   {
    "duration": 358,
    "start_time": "2025-01-20T12:07:09.744Z"
   },
   {
    "duration": 2830,
    "start_time": "2025-01-20T17:01:33.397Z"
   },
   {
    "duration": 292,
    "start_time": "2025-01-20T17:01:36.229Z"
   },
   {
    "duration": 83,
    "start_time": "2025-01-20T17:01:36.524Z"
   },
   {
    "duration": 24,
    "start_time": "2025-01-20T17:01:36.611Z"
   },
   {
    "duration": 31,
    "start_time": "2025-01-20T17:01:36.637Z"
   },
   {
    "duration": 414,
    "start_time": "2025-01-20T17:01:36.669Z"
   },
   {
    "duration": 336,
    "start_time": "2025-01-20T17:01:37.085Z"
   },
   {
    "duration": 367,
    "start_time": "2025-01-20T17:01:37.425Z"
   },
   {
    "duration": 36,
    "start_time": "2025-01-20T17:01:37.794Z"
   },
   {
    "duration": 6,
    "start_time": "2025-01-20T17:01:37.832Z"
   },
   {
    "duration": 4,
    "start_time": "2025-01-20T17:01:37.840Z"
   },
   {
    "duration": 80,
    "start_time": "2025-01-20T17:01:37.846Z"
   },
   {
    "duration": 104,
    "start_time": "2025-01-20T17:01:37.929Z"
   },
   {
    "duration": 90,
    "start_time": "2025-01-20T17:01:38.043Z"
   },
   {
    "duration": 84,
    "start_time": "2025-01-20T17:01:38.140Z"
   },
   {
    "duration": 5,
    "start_time": "2025-01-20T17:01:38.226Z"
   },
   {
    "duration": 15,
    "start_time": "2025-01-20T17:01:38.232Z"
   },
   {
    "duration": 2161,
    "start_time": "2025-01-20T17:01:38.249Z"
   }
  ],
  "kernelspec": {
   "display_name": "Python 3 (ipykernel)",
   "language": "python",
   "name": "python3"
  },
  "language_info": {
   "codemirror_mode": {
    "name": "ipython",
    "version": 3
   },
   "file_extension": ".py",
   "mimetype": "text/x-python",
   "name": "python",
   "nbconvert_exporter": "python",
   "pygments_lexer": "ipython3",
   "version": "3.9.19"
  },
  "toc": {
   "base_numbering": 1,
   "nav_menu": {},
   "number_sections": true,
   "sideBar": true,
   "skip_h1_title": true,
   "title_cell": "Table of Contents",
   "title_sidebar": "Contents",
   "toc_cell": false,
   "toc_position": {
    "height": "calc(100% - 180px)",
    "left": "10px",
    "top": "150px",
    "width": "307.2px"
   },
   "toc_section_display": true,
   "toc_window_display": true
  }
 },
 "nbformat": 4,
 "nbformat_minor": 2
}
